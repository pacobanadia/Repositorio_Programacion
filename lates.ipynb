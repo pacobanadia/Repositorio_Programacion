{
 "cells": [
  {
   "cell_type": "markdown",
   "id": "55703454",
   "metadata": {},
   "source": [
    "# INTRODUCCIÓN A LAS CLASES"
   ]
  },
  {
   "cell_type": "markdown",
   "id": "3ce0b75e",
   "metadata": {},
   "source": [
    "# Generalidades"
   ]
  },
  {
   "cell_type": "code",
   "execution_count": null,
   "id": "fc8b4e54",
   "metadata": {
    "vscode": {
     "languageId": "plaintext"
    }
   },
   "outputs": [],
   "source": [
    "class mi_primera_clase():\n",
    "    \"\"\"\n",
    "    Esta clase no hace nada\n",
    "    \"\"\"\n",
    "    pass"
   ]
  },
  {
   "cell_type": "code",
   "execution_count": null,
   "id": "2a186e2a",
   "metadata": {
    "vscode": {
     "languageId": "plaintext"
    }
   },
   "outputs": [],
   "source": [
    "instancia1 = mi_primera_clase()\n",
    "instancia1.x = 20\n",
    "instancia1.y = 40\n",
    "print(instancia1.y-instancia1.x)\n",
    "print(type(instancia1))"
   ]
  },
  {
   "cell_type": "markdown",
   "id": "46fb869c",
   "metadata": {},
   "source": [
    "# Constructor"
   ]
  },
  {
   "cell_type": "code",
   "execution_count": null,
   "id": "32be3925",
   "metadata": {
    "vscode": {
     "languageId": "plaintext"
    }
   },
   "outputs": [],
   "source": [
    "class  mi_primera_clase():\n",
    "    \"\"\"\n",
    "    Esta clase no hace nada\n",
    "    def __init__(self, name:str, age:int):\n",
    "        self.nombre = name\n",
    "        self.edad = age\n",
    "        if self.edad >= 20:\n",
    "            self.mayor\n",
    "instancia1 = mi_primera_clase(\"Pedrito\",21)\n",
    "instancia2 = mi_primera_clase(\"Edgar\",23)\n",
    "\n",
    "print(instancia1.nombre)\n",
    "print(instancia1.edad)\n",
    "print(instancia2.nombre)\n",
    "print(instancia2.edad)\n"
   ]
  },
  {
   "cell_type": "markdown",
   "id": "6d04ff92",
   "metadata": {},
   "source": [
    "# El self como el yo"
   ]
  },
  {
   "cell_type": "markdown",
   "id": "a98736c2",
   "metadata": {},
   "source": [
    "## Dunder methods python or magic methods python"
   ]
  },
  {
   "cell_type": "code",
   "execution_count": null,
   "id": "e5d386bf",
   "metadata": {
    "vscode": {
     "languageId": "plaintext"
    }
   },
   "outputs": [],
   "source": [
    "class vector():\n",
    "    \"\"\"\n",
    "    Implementación de un vector\n",
    "    \"\"\"\n",
    "    def __init___(self, x:float, y:float, z:float=None):\n",
    "        self.x = x\n",
    "        self.y = y\n",
    "        if not z:\n",
    "            self.z = z\n",
    "            self.Espacio = True\n",
    "        else\n",
    "            self.Espacio = False\n",
    "        self.modulo = abs(self) #define el valor absoluto al vector que estamos trabajando\n",
    "    def __str___(self):\n",
    "        if self.Espacio:\n",
    "            respuesta = f\"({self.x:.2f}, {self.y:.2f}, {self.z:.2f})\" #: es para abrir la configuracion del dato\n",
    "        else:\n",
    "            respuesta = f\"({self.x:.2f}, {self.y:.2f})\" #:.2f me dice que coja dos decimales del valor float\n",
    "        return(respuesta)\n",
    "\n",
    "    def __abs__(self):\n",
    "        if self.Espacio:\n",
    "            return(pow(self.x**2+self.y**2+self.z**2,0.5))\n",
    "            else:\n",
    "                return(pow(self.x**2+self.y**2,0.5))\n",
    "    def __add__(self, other):\n",
    "        coordenadaX = self.x + oter\n",
    "        coordenadaY\n",
    "        coordenadaZ# no necesariamente tiene que ser una suma, pq yo mismo puedo definir mi suma como quiera\n",
    "        return(vector(self.x + other.x, self.y + other.y, self.z + other.z)) #self.x es el vector que estamos trabajando, y other es otro dato \n",
    "\n",
    "v1 = vector(2,3)\n",
    "v2 = vector(4,5,6)\n",
    "print(v1)\n",
    "print(v2)\n",
    "\n",
    "v1 = vector(2,3,1)\n",
    "v2 = vector(4,5,6)\n",
    "print(v1+v2)\n",
    "print(abs(v1+v2))\n",
    "\n"
   ]
  }
 ],
 "metadata": {
  "language_info": {
   "name": "python"
  }
 },
 "nbformat": 4,
 "nbformat_minor": 5
}
